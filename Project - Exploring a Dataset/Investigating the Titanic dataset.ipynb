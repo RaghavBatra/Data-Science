{
 "cells": [
  {
   "cell_type": "markdown",
   "metadata": {},
   "source": [
    "# Investigating the Titanic dataset \n",
    "A partial record of the passengers on the Titanic gives key insight into certain observations and results, which have been visualized throughout using bar charts, histograms and scatter plots. \n",
    "\n",
    "## Questions posed:\n",
    "I started my questions from simple variables that I believed were correlated, and made my way upto the more serious questions. The questions are:\n",
    "\n",
    "1. How many people survived?\n",
    "2. What was the relation (if any) between classes of passenger and their fares?\n",
    "3. What was the relation (if any) between ages of passengers and the class in which they travelled?\n",
    "4. What was the distribution of ages of the survivors?\n",
    "5. What was the distribution of genders of the survivors?\n",
    "6. What was the distribution of the embarkment ports of the survivors?\n",
    "7. How did the survival rate of females living in 1st class differ from males living in 3rd class?\n",
    "8. What was the relation (if any) between the number of spouses/siblings and parents/children?\n",
    "9. What was the distribution of survival rates between both genders in all classes?\n",
    "\n",
    "**Note: **A lot of questions above involve looking at the 'Survived' column in the preprocessing stages, so even though they might be analyzing a single variable, there are in fact 2 variables being analyzed because of the 'Survived' column.\n",
    "\n",
    "Questions 2,3 & 8 do not look at the survivors, but the Titanic population as a whole.\n",
    "\n",
    "## Data Wrangling\n",
    "1. I used the read_csv() function of Pandas to store the CSV data in a DataFrame.\n",
    "2. Throughout the analysis, I mostly used index arrays to get the data regarding the survivors.\n",
    "3. I also used the *dropna()* function to drop any rows/columns with NaN from my Titanic dataset for a more thorough analysis. \n",
    "**NOTE: I do not remove NaN values immediately; instead, for each analysis phase, I drop values which are NaN in the field(s) I am analysing. For example, if I am collecting data on the ages of the survivors, I only disregard those passengers who have a NaN value in their 'Age' field.**\n",
    "\n",
    "## Data Analysis, Conclusions & Visualization\n",
    "I have clubbed the 3 parts, because they are done like so in the code below.\n",
    "I have used Python's inbuilt *numpy* and *Pandas* libraries to read and analyze the CSV containing the data about the Titanic. I also used *matlplotlib* to make all the visualizations you see below. \n",
    "\n",
    "Most of the anaylsis done through the code is self-explanatory. I have put comments in the code where I think the code function's is unclear.\n",
    "\n",
    "All the conclusions are based on my own thinking process.\n",
    "\n",
    "Any conclusions are mentioned at the end of the section. Through I have used a good approach to the analysis and found a lot of **correlations**, none of my findings can be seen as  **causations**; for that, statistic tests would have to be performed.\n",
    "\n",
    "## Summary of findings\n",
    "Presenting all my data above in a few sentences.\n"
   ]
  },
  {
   "cell_type": "code",
   "execution_count": 1,
   "metadata": {
    "collapsed": true
   },
   "outputs": [],
   "source": [
    "# standard imports\n",
    "import numpy as np\n",
    "import pandas as pd\n",
    "import seaborn as sns\n",
    "import matplotlib.pyplot as plt\n",
    "%matplotlib inline"
   ]
  },
  {
   "cell_type": "code",
   "execution_count": 2,
   "metadata": {
    "collapsed": true
   },
   "outputs": [],
   "source": [
    "def correlation(x, y):\n",
    "    '''\n",
    "    From the Udacity course! :)\n",
    "    Function to calculate statistical correlation between 2 Pandas Series, x and y.\n",
    "    Returns a value between -1 and 1, inclusive.\n",
    "    A result of -1 means they are perfectly negatively correlated ie one series \n",
    "    decreases/increases in the same amount as the other series increases/decreases respectively.\n",
    "    A result of 1 means they are perfectly positively correlated ie one series \n",
    "    increases/decreases in the same amount as the other series increases/decreases respectively.\n",
    "    '''\n",
    "    \n",
    "    # standardize variables\n",
    "    x_mean = x.mean()\n",
    "    x_std = x.std(ddof=0)\n",
    "    std_x = (x - x_mean)/x_std\n",
    "    \n",
    "    y_mean = y.mean()\n",
    "    y_std = y.std(ddof=0)\n",
    "    std_y = (y - y_mean)/y_std\n",
    "    \n",
    "    # calculate mathematical result, rounding to 2 decimal places\n",
    "    return round((std_x * std_y).mean(), 2)"
   ]
  },
  {
   "cell_type": "markdown",
   "metadata": {},
   "source": [
    "### 1. How many people survived?"
   ]
  },
  {
   "cell_type": "code",
   "execution_count": 288,
   "metadata": {},
   "outputs": [
    {
     "name": "stdout",
     "output_type": "stream",
     "text": [
      "female    233\n",
      "male      109\n",
      "Name: Sex, dtype: int64\n",
      "Number of people who survived:  342\n",
      "Percentage of people who survived: 38.38 %\n"
     ]
    }
   ],
   "source": [
    "# read the csv\n",
    "titanic = pd.read_csv('titanic-data.csv')\n",
    "\n",
    "# use an index array to extract people who survived\n",
    "survived_indexes = (titanic['Survived'] == True)\n",
    "survived = titanic[survived_indexes]\n",
    "# print survived['Sex'].value_counts()\n",
    "\n",
    "# converted to float to prevent rounding down to 0\n",
    "print \"Number of people who survived: \", len(survived)\n",
    "print \"Percentage of people who survived:\", round(len(survived)/float(len(titanic)), 4) * 100, \"%\""
   ]
  },
  {
   "cell_type": "markdown",
   "metadata": {},
   "source": [
    "Note that the variables above will be used throughout the analysis below for other purposes."
   ]
  },
  {
   "cell_type": "markdown",
   "metadata": {},
   "source": [
    "### 2. Relation between passenger class and fare"
   ]
  },
  {
   "cell_type": "code",
   "execution_count": 302,
   "metadata": {
    "scrolled": true
   },
   "outputs": [
    {
     "data": {
      "text/plain": [
       "<matplotlib.legend.Legend at 0x1786ff28>"
      ]
     },
     "execution_count": 302,
     "metadata": {},
     "output_type": "execute_result"
    },
    {
     "data": {
      "image/png": "[encoded data removed]",
      "text/plain": [
       "<matplotlib.figure.Figure at 0x17291198>"
      ]
     },
     "metadata": {},
     "output_type": "display_data"
    }
   ],
   "source": [
    "sns.boxplot(data=titanic_smaller, x='Pclass', y='Age', hue = 'Pclass', palette = 'Set1' );\n",
    "# plt.scatter(titanic['Pclass'].values, titanic['Fare'].values, s = 3)\n",
    "plt.xlabel(\"Passenger class\")\n",
    "plt.ylabel(\"Fare\")\n",
    "plt.title(\"Passenger class vs fare\")\n",
    "plt.legend(loc = 'upper right')"
   ]
  },
  {
   "cell_type": "markdown",
   "metadata": {},
   "source": [
    "It is clear from the graph that the '1' label on the x-axis has a higher set of y-values (*fares*) than both '2' and '3'.\n",
    "\n",
    "Below, I found the mean for each class and the correlation (moderately negative) between the class and fare. Both are in agreement with my findings."
   ]
  },
  {
   "cell_type": "code",
   "execution_count": 298,
   "metadata": {},
   "outputs": [
    {
     "name": "stdout",
     "output_type": "stream",
     "text": [
      "Pclass\n",
      "1    84.154687\n",
      "2    20.662183\n",
      "3    13.675550\n",
      "Name: Fare, dtype: float64\n"
     ]
    }
   ],
   "source": [
    "print titanic.groupby('Pclass')['Fare'].mean()"
   ]
  },
  {
   "cell_type": "code",
   "execution_count": 6,
   "metadata": {},
   "outputs": [
    {
     "name": "stdout",
     "output_type": "stream",
     "text": [
      "Correlation is:  -0.55\n"
     ]
    }
   ],
   "source": [
    "print \"Correlation is: \", correlation(titanic['Pclass'].values, titanic['Fare'].values)"
   ]
  },
  {
   "cell_type": "markdown",
   "metadata": {},
   "source": [
    "The data analysis below confirms that, *on average*, a higher class (lower class number ie 1st class is higher than 2nd class) is associated with a higher fare."
   ]
  },
  {
   "cell_type": "markdown",
   "metadata": {},
   "source": [
    "### 3. What was the relation (if any) between ages of passengers and the class in which they travelled? "
   ]
  },
  {
   "cell_type": "code",
   "execution_count": 7,
   "metadata": {
    "scrolled": true
   },
   "outputs": [
    {
     "name": "stdout",
     "output_type": "stream",
     "text": [
      "Correlation is: -0.37\n"
     ]
    },
    {
     "data": {
      "text/plain": [
       "<matplotlib.legend.Legend at 0xc550d30>"
      ]
     },
     "execution_count": 7,
     "metadata": {},
     "output_type": "execute_result"
    },
    {
     "data": {
      "image/png": "[encoded data removed]",
      "text/plain": [
       "<matplotlib.figure.Figure at 0xc12d5c0>"
      ]
     },
     "metadata": {},
     "output_type": "display_data"
    }
   ],
   "source": [
    "# removing all NaN values\n",
    "age_pclass = titanic[['Age','Pclass']].dropna()\n",
    "age_values = age_pclass['Age'].values\n",
    "pclass_values = age_pclass['Pclass'].values\n",
    "\n",
    "print \"Correlation is:\", correlation(age_values, pclass_values)\n",
    "sns.boxplot(data=titanic, x='Pclass', y='Age', hue = 'Pclass', palette = 'Set1');\n",
    "plt.xlabel(\"Passenger class\")\n",
    "plt.ylabel(\"Frequency\")\n",
    "plt.title(\"Passenger class vs frequency\")\n",
    "plt.legend(loc = 'upper right')"
   ]
  },
  {
   "cell_type": "markdown",
   "metadata": {},
   "source": [
    "This finding is definitely what I was looking for!\n",
    "\n",
    "The above data analysis confirms my belief that, in fact, there was a negative relation, with the mean age in the 1st class being 13 years higher than that for the 3rd class! \n",
    "\n",
    "I calculated the means below to double check!\n",
    "\n",
    "**(The mean for each class is shown by the dark line in the middle of the box.)**"
   ]
  },
  {
   "cell_type": "code",
   "execution_count": 292,
   "metadata": {},
   "outputs": [
    {
     "name": "stdout",
     "output_type": "stream",
     "text": [
      "              Age\n",
      "Pclass           \n",
      "1       38.233441\n",
      "2       29.877630\n",
      "3       25.140620\n"
     ]
    }
   ],
   "source": [
    "mean_age_per_class = age_pclass.groupby('Pclass').mean()\n",
    "print mean_age_per_class"
   ]
  },
  {
   "cell_type": "markdown",
   "metadata": {},
   "source": [
    "It is visible from the graph that the data points for the 1st class are slightly higher (as a whole) than those of the 2nd class, which are again higher than those of the 3rd.\n",
    "\n",
    "This confirms the hypothesis I had: *on average*, older people travel in 1st class than in 3rd class. \n",
    "\n",
    "This is probably because people usually would have worked when younger and saved up money to go on this expensive cruise (<a href = \"https://en.wikipedia.org/wiki/Passengers_of_the_RMS_Titanic\">the average ticket price for an adult second class passenger was £13, the equivalent of £1,123 today</a>). \n"
   ]
  },
  {
   "cell_type": "markdown",
   "metadata": {},
   "source": [
    "###  4. What was the distribution of ages of the survivors?\n"
   ]
  },
  {
   "cell_type": "code",
   "execution_count": 9,
   "metadata": {
    "scrolled": false
   },
   "outputs": [
    {
     "data": {
      "text/plain": [
       "count    290.000000\n",
       "mean      28.343690\n",
       "std       14.950952\n",
       "min        0.420000\n",
       "25%       19.000000\n",
       "50%       28.000000\n",
       "75%       36.000000\n",
       "max       80.000000\n",
       "Name: Age, dtype: float64"
      ]
     },
     "execution_count": 9,
     "metadata": {},
     "output_type": "execute_result"
    },
    {
     "data": {
      "image/png": "[encoded data removed]",
      "text/plain": [
       "<matplotlib.figure.Figure at 0xc50b518>"
      ]
     },
     "metadata": {},
     "output_type": "display_data"
    }
   ],
   "source": [
    "# getting frequency counts of survivors' ages\n",
    "survived_ages = survived['Age'].dropna()\n",
    "sns.distplot(survived_ages, color = \"red\", label = 'Age')\n",
    "# plt.bar(survived_ages_freq.index.values, survived_ages_freq.values, color = \"red\", label = 'Age')\n",
    "plt.xlabel(\"Ages\")\n",
    "plt.ylabel(\"Frequency\")\n",
    "plt.title(\"Distribution of ages of survivors\")\n",
    "plt.legend(loc = 'upper right')\n",
    "\n",
    "survived_ages.describe()"
   ]
  },
  {
   "cell_type": "markdown",
   "metadata": {},
   "source": [
    "It is evident from the bar graph and the statistics above it that most of the ages are clustured around around 28 years of age.\n",
    "\n",
    "In fact, almost 50% of the ages are between 19 and 36, suggesting that it was **mostly younger passengers who survived**.\n",
    "\n",
    "It is interesting to see that between the ages of almost 63 and 80, there are no data points, strengthening our claim above!"
   ]
  },
  {
   "cell_type": "markdown",
   "metadata": {},
   "source": [
    "### 5. What was the distribution of genders of the survivors?\n",
    "The data analysis below confirms that more female passengers survived than male passengers, with a ratio of almost 2:1"
   ]
  },
  {
   "cell_type": "markdown",
   "metadata": {},
   "source": [
    "Hoping to find an *inverse relation* with the below graph, I found to my display that the columns in the bar chart look almost identical for all 3 classes. "
   ]
  },
  {
   "cell_type": "code",
   "execution_count": 290,
   "metadata": {},
   "outputs": [
    {
     "name": "stdout",
     "output_type": "stream",
     "text": [
      "female    197\n",
      "male       93\n",
      "Name: Sex, dtype: int64\n"
     ]
    },
    {
     "data": {
      "text/plain": [
       "<matplotlib.legend.Legend at 0x14817358>"
      ]
     },
     "execution_count": 290,
     "metadata": {},
     "output_type": "execute_result"
    },
    {
     "data": {
      "image/png": "[encoded data removed]",
      "text/plain": [
       "<matplotlib.figure.Figure at 0x14d1ce80>"
      ]
     },
     "metadata": {},
     "output_type": "display_data"
    }
   ],
   "source": [
    "survived_genders = survived[pd.notnull(survived['Age'])]\n",
    "print survived_genders['Sex'].value_counts()\n",
    "sns.countplot(data = survived_genders, x = 'Sex', hue = 'Sex', palette = 'Set2')\n",
    "plt.xlabel(\"Sexes\")\n",
    "plt.ylabel(\"Frequency\")\n",
    "plt.title(\"Distribution of sexes of survivors\")\n",
    "plt.legend(loc = 'upper right')"
   ]
  },
  {
   "cell_type": "code",
   "execution_count": 291,
   "metadata": {},
   "outputs": [
    {
     "name": "stdout",
     "output_type": "stream",
     "text": [
      "Percentage of females:  67.93 %\n"
     ]
    }
   ],
   "source": [
    "print \"Percentage of females: \", round(survived_genders['Sex'].value_counts()['female']/float(survived_genders['Sex'].value_counts().sum()), 4) * 100, \"%\""
   ]
  },
  {
   "cell_type": "markdown",
   "metadata": {},
   "source": [
    "### 6. What was the distribution of the embarkment ports of the survivors?"
   ]
  },
  {
   "cell_type": "code",
   "execution_count": 128,
   "metadata": {},
   "outputs": [
    {
     "data": {
      "text/plain": [
       "<matplotlib.legend.Legend at 0x1376d2b0>"
      ]
     },
     "execution_count": 128,
     "metadata": {},
     "output_type": "execute_result"
    },
    {
     "data": {
      "image/png": "[encoded data removed]",
      "text/plain": [
       "<matplotlib.figure.Figure at 0x1376dfd0>"
      ]
     },
     "metadata": {},
     "output_type": "display_data"
    }
   ],
   "source": [
    "embarked = titanic[pd.notnull(titanic['Embarked'])]\n",
    "sns.countplot(data = embarked, x = 'Embarked', hue = 'Embarked', palette = 'Set1')\n",
    "plt.xlabel(\"Port of embankment\")\n",
    "plt.ylabel(\"Frequency\")\n",
    "plt.title(\"Distribution of ports of embarkment of survivors\")\n",
    "plt.legend(loc = 'upper right')"
   ]
  },
  {
   "cell_type": "code",
   "execution_count": 129,
   "metadata": {},
   "outputs": [
    {
     "name": "stdout",
     "output_type": "stream",
     "text": [
      "Percentage from S:  72.44 %\n"
     ]
    }
   ],
   "source": [
    "S_embarked = embarked.groupby('Embarked').get_group('S')\n",
    "print \"Percentage from S: \", round(len(S_embarked)/float(len(embarked)) * 100, 2), \"%\" "
   ]
  },
  {
   "cell_type": "markdown",
   "metadata": {},
   "source": [
    "It appears from the above graph that an overwhelmingly large number of survivors came from Southampton (S)"
   ]
  },
  {
   "cell_type": "markdown",
   "metadata": {},
   "source": [
    "### 7. How did the survival rate of females living in 1st class differ from males living in 3rd class?"
   ]
  },
  {
   "cell_type": "code",
   "execution_count": 14,
   "metadata": {},
   "outputs": [
    {
     "name": "stdout",
     "output_type": "stream",
     "text": [
      "Percentage of females living in the first class who survived: 96.81 %\n",
      "Percentage of males living in the third class who survived: 13.54 %\n",
      "Difference in survival rates = 7.15\n"
     ]
    }
   ],
   "source": [
    "titanic.groupby(['Pclass', 'Sex']).size()\n",
    "first_female = titanic.groupby(['Pclass', 'Sex']).get_group((1, 'female'))\n",
    "first_female_num = round(first_female['Survived'].dropna().mean() * 100, 2)\n",
    "print \"Percentage of females living in the first class who survived:\", first_female_num, \"%\"\n",
    "\n",
    "third_male = titanic.groupby(['Pclass', 'Sex']).get_group((3, 'male'))\n",
    "third_male_num = round(third_male['Survived'].dropna().mean() * 100, 2)\n",
    "print \"Percentage of males living in the third class who survived:\", third_male_num, \"%\"\n",
    "\n",
    "print \"Difference in survival rates =\", round(first_female_num/third_male_num, 2)"
   ]
  },
  {
   "cell_type": "markdown",
   "metadata": {},
   "source": [
    "\n",
    "### 8. What was the relation (if any) between the number of spouses/siblings and parents/children?"
   ]
  },
  {
   "cell_type": "code",
   "execution_count": 15,
   "metadata": {},
   "outputs": [
    {
     "name": "stdout",
     "output_type": "stream",
     "text": [
      "Correlation coefficient is:  0.41\n"
     ]
    },
    {
     "data": {
      "text/plain": [
       "<matplotlib.legend.Legend at 0xc50b550>"
      ]
     },
     "execution_count": 15,
     "metadata": {},
     "output_type": "execute_result"
    },
    {
     "data": {
      "image/png": "[encoded data removed]",
      "text/plain": [
       "<matplotlib.figure.Figure at 0xc992dd8>"
      ]
     },
     "metadata": {},
     "output_type": "display_data"
    }
   ],
   "source": [
    "# making m`arker size euivalent to value counts\n",
    "\n",
    "# titanic_mod contains the OVERALL number of familial relations for each passenger\n",
    "titanic_mod = titanic['SibSp'] + titanic['Parch']\n",
    "marker_size = titanic_mod.value_counts().loc[titanic_mod]\n",
    "\n",
    "print \"Correlation coefficient is: \", correlation(titanic['SibSp'], titanic['Parch'])\n",
    "\n",
    "# plt.scatter(titanic['SibSp'], titanic['Parch'], s = marker_size, color = \"darkblue\")\n",
    "sns.regplot(x=titanic['SibSp'], y=titanic['Parch'], fit_reg=False, scatter_kws={\"s\": marker_size}, color = \"darkblue\", label = 'Total number of familial relations')\n",
    "plt.xlabel(\"# of siblings/spouses accompanying passenger\")\n",
    "plt.ylabel(\"# of parents/children accompanying passenger\")\n",
    "plt.title(\"Scatterplot of number of siblings/spouses vs number of parents/children\")\n",
    "plt.legend(loc = 'upper right')"
   ]
  },
  {
   "cell_type": "markdown",
   "metadata": {},
   "source": [
    "While the correlation coefficient isn't as large as I hoped for, I did notice the **large** circle at (0, 0) and decided to investigate further. \n",
    "\n",
    "Any data point (passenger) at (0, 0) implies that that passenger had 0 familial relations with him/her."
   ]
  },
  {
   "cell_type": "code",
   "execution_count": 16,
   "metadata": {},
   "outputs": [
    {
     "name": "stdout",
     "output_type": "stream",
     "text": [
      "Number of passengers with 0 familial relations:  537\n",
      "Percentage of such passengers:  60.27 %\n"
     ]
    }
   ],
   "source": [
    "print \"Number of passengers with 0 familial relations: \", titanic_mod.value_counts().loc[0]\n",
    "print \"Percentage of such passengers: \", round(titanic_mod.value_counts().loc[0]/float(titanic_mod.value_counts().sum()) * 100, 2), \"%\""
   ]
  },
  {
   "cell_type": "markdown",
   "metadata": {},
   "source": [
    "There are 537 passengers with no familial relations, making up a whopping 60% of the passengers on the Titanic!\n",
    "\n",
    "Assuming that having no accompanying passengers implies that the passenger is single makes it same to presume that quite a lot of people on the Titanic were, in fact, unmarried."
   ]
  },
  {
   "cell_type": "markdown",
   "metadata": {},
   "source": [
    "### 9. What was the distribution of survival rates between both genders in all classes?"
   ]
  },
  {
   "cell_type": "code",
   "execution_count": 245,
   "metadata": {},
   "outputs": [
    {
     "data": {
      "text/plain": [
       "<matplotlib.axes._subplots.AxesSubplot at 0x1462ada0>"
      ]
     },
     "execution_count": 245,
     "metadata": {},
     "output_type": "execute_result"
    },
    {
     "data": {
      "image/png": "[encoded data removed]",
      "text/plain": [
       "<matplotlib.figure.Figure at 0x136e1cf8>"
      ]
     },
     "metadata": {},
     "output_type": "display_data"
    }
   ],
   "source": [
    "not_null_survival = titanic[pd.notnull(titanic['Survived'])]\n",
    "sns.barplot(x=\"Pclass\", y=\"Survived\", hue = \"Sex\", data=not_null_survival)"
   ]
  },
  {
   "cell_type": "markdown",
   "metadata": {},
   "source": [
    "As can be seen below, females survived with higher probability than did men for all 3 classes by whopping margins! \n",
    "\n",
    "Also, it seems that the higher the class, the more the survivors from that class, from an overall of 63% for the 1st class to 24% for the 3rd class! This too is supported by the numbers below!\n",
    "\n",
    "The numerical evidence:"
   ]
  },
  {
   "cell_type": "code",
   "execution_count": 246,
   "metadata": {},
   "outputs": [
    {
     "name": "stdout",
     "output_type": "stream",
     "text": [
      "Probability of survival in passenger class 1 of sex:\n",
      "female :  96.81 %\n",
      "male :  36.89 %\n",
      "overall: 62.96 %\n",
      "Probability of survival in passenger class 2 of sex:\n",
      "female :  92.11 %\n",
      "male :  15.74 %\n",
      "overall: 47.28 %\n",
      "Probability of survival in passenger class 3 of sex:\n",
      "female :  50.0 %\n",
      "male :  13.54 %\n",
      "overall: 24.24 %\n"
     ]
    }
   ],
   "source": [
    "grouped = not_null_survival.groupby(['Sex', 'Pclass'])\n",
    "grouped_survived = survived.groupby(['Sex', 'Pclass'])\n",
    "\n",
    "# for loop to generalize overall likelihood of survival\n",
    "for i in range(len(grouped)/2):\n",
    "    print \"Probability of survival in passenger class\", i + 1, \"of sex:\"\n",
    "    survivor = 0\n",
    "    total = 0\n",
    "    for j in ['female', 'male']:\n",
    "        percent =  round (len(grouped_survived.get_group((j, i + 1)))/float(len(grouped.get_group((j, i + 1)))) * 100, 2)\n",
    "        print  j, \": \", percent, \"%\"\n",
    "        survivor += len(grouped_survived.get_group((j, i + 1)))\n",
    "        total += len(grouped.get_group((j, i + 1)))\n",
    "    print \"overall:\", round(survivor/float(total) * 100, 2), \"%\""
   ]
  },
  {
   "cell_type": "markdown",
   "metadata": {},
   "source": [
    "### Summary of findings\n",
    "Through the above, I have analyzed several single variable & multi variable facets of the Titanic data. In some places, my hunch was right. In others, I didn't find what I was looking for, but in the bargain, found a totally different interesting fact! Graphs were very helpful in seeing anomalies and trends in the data.\n",
    "\n",
    "These were my findings:\n",
    "1. Only about 38% of the Titanic population survived.\n",
    "2. Passengers in higher classes were, on average, older.\n",
    "3. Higher classes cost more, on average.\n",
    "4. About 60% of the Titanic population were single.\n",
    "5. About 68% of the survivors were female.\n",
    "6. About 68% of survivors were between the ages of 19 and 36.\n",
    "7. Females living in 1st class had a 7.15 times greater chance of survival than males living in 3rd class.\n",
    "8. About 72% of survivors boarded from Southampton.\n",
    "9. Females survived with higher probability. (This agrees with 5.) \n",
    "10. The higher the passenger class, the more the survivors from that class.\n",
    "\n",
    "**NOTE:** my findings are based on the partial data given to me, so it may not agree with the actual data."
   ]
  },
  {
   "cell_type": "markdown",
   "metadata": {},
   "source": [
    "## External Sources\n",
    "1. <a href = \"https://www.kaggle.com/c/titanic/data\"> Titanic dataset </a>\n",
    "2. <a href = \"https://en.wikipedia.org/wiki/Passengers_of_the_RMS_Titanic\"> Titanic Wikipedia </a>\n"
   ]
  }
 ],
 "metadata": {
  "kernelspec": {
   "display_name": "Python 2",
   "language": "python",
   "name": "python2"
  },
  "language_info": {
   "codemirror_mode": {
    "name": "ipython",
    "version": 2
   },
   "file_extension": ".py",
   "mimetype": "text/x-python",
   "name": "python",
   "nbconvert_exporter": "python",
   "pygments_lexer": "ipython2",
   "version": "2.7.13"
  }
 },
 "nbformat": 4,
 "nbformat_minor": 2
}
