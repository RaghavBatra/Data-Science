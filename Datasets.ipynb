{
 "cells": [
  {
   "cell_type": "code",
   "execution_count": 2,
   "metadata": {
    "collapsed": true
   },
   "outputs": [],
   "source": [
    "import numpy as np\n",
    "import pandas as pd"
   ]
  },
  {
   "cell_type": "code",
   "execution_count": 24,
   "metadata": {
    "collapsed": true
   },
   "outputs": [],
   "source": [
    "df = pd.DataFrame({'I':[1, 2, 3], 'II':[4, 5, 6], 'III': [7, 8, 9]}, index = ['A', 'B', 'C'])"
   ]
  },
  {
   "cell_type": "code",
   "execution_count": 32,
   "metadata": {},
   "outputs": [
    {
     "data": {
      "text/plain": [
       "A    1\n",
       "B    2\n",
       "C    3\n",
       "Name: I, dtype: int64"
      ]
     },
     "execution_count": 32,
     "metadata": {},
     "output_type": "execute_result"
    }
   ],
   "source": [
    "df['I']"
   ]
  },
  {
   "cell_type": "code",
   "execution_count": 7,
   "metadata": {},
   "outputs": [
    {
     "name": "stdout",
     "output_type": "stream",
     "text": [
      "   A  B  C\n",
      "A  1  4  7\n",
      "B  2  5  8\n",
      "C  3  6  9\n"
     ]
    }
   ],
   "source": [
    "print df"
   ]
  },
  {
   "cell_type": "code",
   "execution_count": 33,
   "metadata": {
    "collapsed": true
   },
   "outputs": [],
   "source": [
    "df = pd.DataFrame([[1, 2, 3], [4, 5, 6], [7, 8, 9]])"
   ]
  },
  {
   "cell_type": "code",
   "execution_count": 38,
   "metadata": {
    "collapsed": true
   },
   "outputs": [],
   "source": [
    "def add1(x):\n",
    "    return x + 1"
   ]
  },
  {
   "cell_type": "code",
   "execution_count": 42,
   "metadata": {
    "collapsed": true
   },
   "outputs": [],
   "source": [
    "def standardize(series):\n",
    "    mean = np.mean(series)\n",
    "    std  = np.std(series)\n",
    "    return (series - mean)/std"
   ]
  },
  {
   "cell_type": "code",
   "execution_count": 43,
   "metadata": {},
   "outputs": [
    {
     "data": {
      "text/plain": [
       "0   -1.224745\n",
       "1    0.000000\n",
       "2    1.224745\n",
       "dtype: float64"
      ]
     },
     "execution_count": 43,
     "metadata": {},
     "output_type": "execute_result"
    }
   ],
   "source": [
    "standardize(pd.Series([1, 2, 3]))"
   ]
  },
  {
   "cell_type": "code",
   "execution_count": null,
   "metadata": {
    "collapsed": true
   },
   "outputs": [],
   "source": []
  },
  {
   "cell_type": "code",
   "execution_count": 48,
   "metadata": {},
   "outputs": [
    {
     "data": {
      "text/html": [
       "<div>\n",
       "<style>\n",
       "    .dataframe thead tr:only-child th {\n",
       "        text-align: right;\n",
       "    }\n",
       "\n",
       "    .dataframe thead th {\n",
       "        text-align: left;\n",
       "    }\n",
       "\n",
       "    .dataframe tbody tr th {\n",
       "        vertical-align: top;\n",
       "    }\n",
       "</style>\n",
       "<table border=\"1\" class=\"dataframe\">\n",
       "  <thead>\n",
       "    <tr style=\"text-align: right;\">\n",
       "      <th></th>\n",
       "      <th>0</th>\n",
       "      <th>1</th>\n",
       "      <th>2</th>\n",
       "    </tr>\n",
       "  </thead>\n",
       "  <tbody>\n",
       "    <tr>\n",
       "      <th>0</th>\n",
       "      <td>-1.224745</td>\n",
       "      <td>0.0</td>\n",
       "      <td>1.224745</td>\n",
       "    </tr>\n",
       "    <tr>\n",
       "      <th>1</th>\n",
       "      <td>-1.224745</td>\n",
       "      <td>0.0</td>\n",
       "      <td>1.224745</td>\n",
       "    </tr>\n",
       "    <tr>\n",
       "      <th>2</th>\n",
       "      <td>-1.224745</td>\n",
       "      <td>0.0</td>\n",
       "      <td>1.224745</td>\n",
       "    </tr>\n",
       "  </tbody>\n",
       "</table>\n",
       "</div>"
      ],
      "text/plain": [
       "          0    1         2\n",
       "0 -1.224745  0.0  1.224745\n",
       "1 -1.224745  0.0  1.224745\n",
       "2 -1.224745  0.0  1.224745"
      ]
     },
     "execution_count": 48,
     "metadata": {},
     "output_type": "execute_result"
    }
   ],
   "source": [
    "df.apply(standardize, axis = 'columns')"
   ]
  },
  {
   "cell_type": "code",
   "execution_count": 207,
   "metadata": {},
   "outputs": [
    {
     "name": "stdout",
     "output_type": "stream",
     "text": [
      "Populating the interactive namespace from numpy and matplotlib\n"
     ]
    },
    {
     "data": {
      "text/plain": [
       "[<matplotlib.lines.Line2D at 0x1dbbc7f0>]"
      ]
     },
     "execution_count": 207,
     "metadata": {},
     "output_type": "execute_result"
    },
    {
     "data": {
      "image/png": "[encoded data removed]",
      "text/plain": [
       "<matplotlib.figure.Figure at 0x1af057f0>"
      ]
     },
     "metadata": {},
     "output_type": "display_data"
    }
   ],
   "source": [
    "import matplotlib.pyplot as plt\n",
    "import numpy as np\n",
    "import pandas as pd\n",
    "import seaborn as sns\n",
    "\n",
    "% pylab inline\n",
    "# values = np.array([1, 3, 2, 4, 1, 6, 4])\n",
    "# example_df = pd.DataFrame({\n",
    "#     'value': values,\n",
    "#     'even': values % 2 == 0,\n",
    "#     'above_three': values > 3 \n",
    "# }, index=['a', 'b', 'c', 'd', 'e', 'f', 'g'])\n",
    "\n",
    "# print example_df\n",
    "\n",
    "# # Change False to True for each block of code to see what it does\n",
    "\n",
    "# # Examine DataFrame\n",
    "# if False:\n",
    "#     print example_df\n",
    "    \n",
    "# # Examine groups\n",
    "# if not True:\n",
    "#     grouped_data = example_df.groupby('even')\n",
    "#     # The groups attribute is a dictionary mapping keys to lists of row indexes\n",
    "#     print grouped_data.groups\n",
    "    \n",
    "# # Group by multiple columns\n",
    "# if False:\n",
    "#     grouped_data = example_df.groupby(['even', 'above_three'])\n",
    "#     print grouped_data.groups\n",
    "    \n",
    "# # Get sum of each group\n",
    "# if False:\n",
    "#     grouped_data = example_df.groupby('even')\n",
    "#     print grouped_data.sum()\n",
    "    \n",
    "# # Limit columns in result\n",
    "# if not False:\n",
    "#     grouped_data = example_df.groupby('even')\n",
    "    \n",
    "#     # You can take one or more columns from the result DataFrame\n",
    "#     print grouped_data.sum()['value']\n",
    "    \n",
    "#     print '\\n' # Blank line to separate results\n",
    "    \n",
    "#     # You can also take a subset of columns from the grouped data before \n",
    "#     # collapsing to a DataFrame. In this case, the result is the same.\n",
    "#     print grouped_data['value'].sum()\n",
    "    \n",
    "filename = 'numpy & pandas/nyc_subway_weather.csv'\n",
    "subway_df = pd.read_csv(filename)\n",
    "\n",
    "### Write code here to group the subway data by a variable of your choice, then\n",
    "### either print out the mean ridership within each group or create a plot.\n",
    "\n",
    "# print subway_df.head()\n",
    "# print subway_df\n",
    "grouped_unit = subway_df.groupby('UNIT').sum()\n",
    "rain_stations = grouped_unit['rain']\n",
    "rain_stations = (rain_stations - rain_stations.mean())/rain_stations.std()\n",
    "entry_stations = grouped_unit['ENTRIESn']\n",
    "entry_stations = (entry_stations - entry_stations.mean())/entry_stations.std()\n",
    "\n",
    "# print rain_stations\n",
    "\n",
    "plt.plot(rain_stations.values) # blue\n",
    "plt.plot(entry_stations.values/2)\n",
    "\n",
    "\n",
    "#rain_stations.plot(kind=\"hist\")"
   ]
  },
  {
   "cell_type": "code",
   "execution_count": 4,
   "metadata": {},
   "outputs": [
    {
     "name": "stdout",
     "output_type": "stream",
     "text": [
      "[[['A1a' 'A1b' 'A1c']\n",
      "  ['A2a' 'A2b' 'A2c']]\n",
      "\n",
      " [['B1a' 'B1b' 'B1c']\n",
      "  ['B2a' 'B2b' 'B2c']]]\n"
     ]
    }
   ],
   "source": [
    "a = np.array([\n",
    "    [['A1a', 'A1b', 'A1c'], ['A2a', 'A2b', 'A2c']],\n",
    "    [['B1a', 'B1b', 'B1c'], ['B2a', 'B2b', 'B2c']]\n",
    "])\n",
    "print a"
   ]
  }
 ],
 "metadata": {
  "kernelspec": {
   "display_name": "Python 2",
   "language": "python",
   "name": "python2"
  },
  "language_info": {
   "codemirror_mode": {
    "name": "ipython",
    "version": 2
   },
   "file_extension": ".py",
   "mimetype": "text/x-python",
   "name": "python",
   "nbconvert_exporter": "python",
   "pygments_lexer": "ipython2",
   "version": "2.7.13"
  }
 },
 "nbformat": 4,
 "nbformat_minor": 2
}
